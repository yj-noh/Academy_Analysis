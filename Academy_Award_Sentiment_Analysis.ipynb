{
 "cells": [
  {
   "cell_type": "code",
   "execution_count": 1,
   "metadata": {},
   "outputs": [],
   "source": [
    "import csv\n",
    "from tqdm import tqdm\n",
    "import pandas as pd\n",
    "%matplotlib inline\n",
    "import matplotlib.pyplot as plt\n",
    "from sklearn.model_selection import GridSearchCV\n",
    "from sklearn.model_selection import train_test_split\n",
    "from sklearn.feature_extraction.text import CountVectorizer\n",
    "from sklearn.feature_extraction.text import TfidfVectorizer\n",
    "from sklearn.linear_model import LogisticRegression\n",
    "from sklearn.metrics import confusion_matrix"
   ]
  },
  {
   "cell_type": "markdown",
   "metadata": {},
   "source": [
    "# 1. Rotten Tomatoes에서 크롤링한 연도별 오스카 작품상 후보작 리뷰 데이터 취합 (2017~2021년)"
   ]
  },
  {
   "cell_type": "code",
   "execution_count": 3,
   "metadata": {},
   "outputs": [],
   "source": [
    "data_2017 = []\n",
    "f = open('rotten_tomato_critics_review_2017.csv', 'r', encoding='utf-8')\n",
    "rdr = csv.reader(f)\n",
    "for line in rdr:\n",
    "    data_2017.append(''.join(line))\n",
    "f.close() "
   ]
  },
  {
   "cell_type": "code",
   "execution_count": 4,
   "metadata": {},
   "outputs": [],
   "source": [
    "data_2018 = []\n",
    "f = open('rotten_tomato_critics_review_2018.csv', 'r', encoding='utf-8')\n",
    "rdr = csv.reader(f)\n",
    "for line in rdr:\n",
    "    data_2018.append(''.join(line))\n",
    "f.close() "
   ]
  },
  {
   "cell_type": "code",
   "execution_count": 5,
   "metadata": {},
   "outputs": [],
   "source": [
    "data_2019 = []\n",
    "f = open('rotten_tomato_critics_review_2019.csv', 'r', encoding='utf-8')\n",
    "rdr = csv.reader(f)\n",
    "for line in rdr:\n",
    "    data_2019.append(''.join(line))\n",
    "f.close() "
   ]
  },
  {
   "cell_type": "code",
   "execution_count": 6,
   "metadata": {},
   "outputs": [],
   "source": [
    "data_2020 = []\n",
    "f = open('rotten_tomato_critics_review_2020.csv', 'r', encoding='utf-8')\n",
    "rdr = csv.reader(f)\n",
    "for line in rdr:\n",
    "    data_2020.append(''.join(line))\n",
    "f.close() "
   ]
  },
  {
   "cell_type": "code",
   "execution_count": 7,
   "metadata": {},
   "outputs": [],
   "source": [
    "data_2021 = []\n",
    "f = open('rotten_tomato_critics_review_2021.csv', 'r', encoding='utf-8')\n",
    "rdr = csv.reader(f)\n",
    "for line in rdr:\n",
    "    data_2021.append(''.join(line))\n",
    "f.close() "
   ]
  },
  {
   "cell_type": "markdown",
   "metadata": {},
   "source": [
    "# 2. 데이터 전처리"
   ]
  },
  {
   "cell_type": "code",
   "execution_count": 18,
   "metadata": {},
   "outputs": [],
   "source": [
    "import nltk\n",
    "from nltk.stem import WordNetLemmatizer\n",
    "\n",
    "## 불용어(영화 제목들도 의미를 가지고 있는 단어라서 분석에 방해가 될 가능성이 높아 불용어처리함)\n",
    "stop = ['land', 'hacksaw', 'ridge', 'moonlight','phantom', 'thread', 'darkest', 'dunkirk', 'favourite', 'vice', '1917', 'parasite', 'joker', 'irishman', 'marriage', 'nomaland', 'minari', 'messiah', 'could', \"n't\",'i', 'me', 'my', 'myself', 'we', 'our', 'ours', 'ourselves', 'you', \"you're\", \"you've\", \"you'll\", \"you'd\", 'your', 'yours', 'yourself', 'yourselves', 'he', 'him', 'his', 'himself', 'she', \"she's\", 'her', 'hers', 'herself', 'it', \"it's\", 'its', 'itself', 'they', 'them', 'their', 'theirs', 'themselves', 'what', 'which', 'who', 'whom', 'this', 'that', \"that'll\", 'these', 'those', 'am', 'is', 'are', 'was', 'were', 'be', 'been', 'being', 'have', 'has', 'had', 'having', 'do', 'does', 'did', 'doing', 'a', 'an', 'the', 'and', 'but', 'if', 'or', 'because', 'as', 'until', 'while', 'of', 'at', 'by', 'for', 'with', 'about', 'against', 'between', 'into', 'through', 'during', 'before', 'after', 'above', 'below', 'to', 'from', 'up', 'down', 'in', 'out', 'on', 'off', 'over', 'under', 'again', 'further', 'then', 'once', 'here', 'there', 'when', 'where', 'why', 'how', 'all', 'any', 'both', 'each', 'few', 'more', 'most', 'other', 'some', 'such', 'no', 'nor', 'not', 'only', 'own', 'same', 'so', 'than', 'too', 'very', 's', 't', 'can', 'will', 'just', 'don', \"don't\", 'should', \"should've\", 'now', 'd', 'll', 'm', 'o', 're', 've', 'y', 'ain', 'aren', \"aren't\", 'couldn', \"couldn't\", 'didn', \"didn't\", 'doesn', \"doesn't\", 'hadn', \"hadn't\", 'hasn', \"hasn't\", 'haven', \"haven't\", 'isn', \"isn't\", 'ma', 'mightn', \"mightn't\", 'mustn', \"mustn't\", 'needn', \"needn't\", 'shan', \"shan't\", 'shouldn', \"shouldn't\", 'wasn', \"wasn't\", 'weren', \"weren't\", 'won', \"won't\", 'wouldn', \"wouldn't\"]\n",
    "\n",
    "# 데이터전처리\n",
    "def preprocessing(text):\n",
    "    tokens = [word for sent in nltk.sent_tokenize(text)\n",
    "              for word in nltk.word_tokenize(sent)]\n",
    "  \n",
    "    # 소문자로 통일\n",
    "    tokens = [word.lower() for word in tokens]\n",
    "    \n",
    "    # 3글자 미만 단어 제거\n",
    "    tokens = [word for word in tokens if len(word) >= 3]\n",
    "    \n",
    "    # 불용어 제거\n",
    "    tokens = [token for token in tokens if token not in stop]\n",
    "    \n",
    "    # lemmatization\n",
    "    lmtzr = WordNetLemmatizer()\n",
    "    tokens = [lmtzr.lemmatize(word) for word in tokens]\n",
    "    tokens = [lmtzr.lemmatize(word, 'v') for word in tokens]\n",
    "    \n",
    "    preprocessed_text= ' '.join(tokens)\n",
    "    \n",
    "    return preprocessed_text"
   ]
  },
  {
   "cell_type": "code",
   "execution_count": 19,
   "metadata": {},
   "outputs": [
    {
     "data": {
      "text/plain": [
       "['simple tale tell visual inventiveness remind audience power inherent cinema',\n",
       " 'chazelle choose lead well know bet team much sizzle middle crazy stupid love would fall flat bring together',\n",
       " 'gorgeous spectacle fill beautiful music light color must-see movie year',\n",
       " 'breathe new life old genre perform cpr bring beat heart back vibrant life',\n",
       " 'lovely please showstopping movie watch biggest screen loudest sound brightest color possible',\n",
       " 'celebration music magic swell emotion capture somber yet jazzy leitmotif',\n",
       " 'feature career best performance emma stone',\n",
       " 'biggest fail complacency ...',\n",
       " 'clash style idea collectively embrace balance cheese meet whimsical romance meet heartbreak old tradition meet modern way sincere heart meet good fun completely own magical way',\n",
       " 'bask wonder excitement young love optimism dreamer nostalgia classic hollywood emotion musical fantasy']"
      ]
     },
     "execution_count": 19,
     "metadata": {},
     "output_type": "execute_result"
    }
   ],
   "source": [
    "preprocessed_data_2017 = []\n",
    "for line in data_2017[1:]:\n",
    "    preprocessed_data_2017.append(preprocessing(line))\n",
    "preprocessed_data_2017[0:10]"
   ]
  },
  {
   "cell_type": "code",
   "execution_count": 20,
   "metadata": {},
   "outputs": [],
   "source": [
    "preprocessed_data_2018 = []\n",
    "for line in data_2018[1:]:\n",
    "    preprocessed_data_2018.append(preprocessing(line))"
   ]
  },
  {
   "cell_type": "code",
   "execution_count": 21,
   "metadata": {},
   "outputs": [],
   "source": [
    "preprocessed_data_2019 = []\n",
    "for line in data_2019[1:]:\n",
    "    preprocessed_data_2019.append(preprocessing(line))"
   ]
  },
  {
   "cell_type": "code",
   "execution_count": 22,
   "metadata": {},
   "outputs": [],
   "source": [
    "preprocessed_data_2020 = []\n",
    "for line in data_2020[1:]:\n",
    "    preprocessed_data_2020.append(preprocessing(line))"
   ]
  },
  {
   "cell_type": "code",
   "execution_count": 13,
   "metadata": {},
   "outputs": [],
   "source": [
    "preprocessed_data_2021 = []\n",
    "for line in data_2021[1:]:\n",
    "    preprocessed_data_2021.append(preprocessing(line))"
   ]
  },
  {
   "cell_type": "markdown",
   "metadata": {},
   "source": [
    "# 3. Logistic Regression 긍정/부정 리뷰 판독 모델 생성"
   ]
  },
  {
   "cell_type": "code",
   "execution_count": 23,
   "metadata": {},
   "outputs": [
    {
     "name": "stderr",
     "output_type": "stream",
     "text": [
      "371900it [40:59, 151.20it/s]\n"
     ]
    }
   ],
   "source": [
    "## 각종 rotten tomatoes 비평가 영화리뷰 데이터\n",
    "dataset = []\n",
    "f = open('rotten_tomatoes_critic_reviews_dataset.csv', 'r', encoding='latin_1')\n",
    "rdr = csv.reader(f)\n",
    "for line in tqdm(rdr):\n",
    "    if line not in dataset:\n",
    "        dataset.append(line)\n",
    "f.close()"
   ]
  },
  {
   "cell_type": "code",
   "execution_count": 29,
   "metadata": {},
   "outputs": [
    {
     "data": {
      "text/plain": [
       "328959"
      ]
     },
     "execution_count": 29,
     "metadata": {},
     "output_type": "execute_result"
    }
   ],
   "source": [
    "len(dataset)"
   ]
  },
  {
   "cell_type": "code",
   "execution_count": null,
   "metadata": {},
   "outputs": [],
   "source": [
    "dataset = dataset[1:]"
   ]
  },
  {
   "cell_type": "code",
   "execution_count": 31,
   "metadata": {},
   "outputs": [],
   "source": [
    "review_data = []\n",
    "\n",
    "for i in dataset:\n",
    "        review_data.append(i[0:2])"
   ]
  },
  {
   "cell_type": "code",
   "execution_count": 33,
   "metadata": {},
   "outputs": [
    {
     "data": {
      "text/html": [
       "<div>\n",
       "<style scoped>\n",
       "    .dataframe tbody tr th:only-of-type {\n",
       "        vertical-align: middle;\n",
       "    }\n",
       "\n",
       "    .dataframe tbody tr th {\n",
       "        vertical-align: top;\n",
       "    }\n",
       "\n",
       "    .dataframe thead th {\n",
       "        text-align: right;\n",
       "    }\n",
       "</style>\n",
       "<table border=\"1\" class=\"dataframe\">\n",
       "  <thead>\n",
       "    <tr style=\"text-align: right;\">\n",
       "      <th></th>\n",
       "      <th>review</th>\n",
       "      <th>label</th>\n",
       "    </tr>\n",
       "  </thead>\n",
       "  <tbody>\n",
       "    <tr>\n",
       "      <th>0</th>\n",
       "      <td>Zwick wants to tell timeless stories on a gran...</td>\n",
       "      <td>1</td>\n",
       "    </tr>\n",
       "    <tr>\n",
       "      <th>1</th>\n",
       "      <td>Zvyagintsev has always been wildly ambitious, ...</td>\n",
       "      <td>1</td>\n",
       "    </tr>\n",
       "    <tr>\n",
       "      <th>2</th>\n",
       "      <td>Zorro follows the predictable paths of action ...</td>\n",
       "      <td>1</td>\n",
       "    </tr>\n",
       "    <tr>\n",
       "      <th>3</th>\n",
       "      <td>Zora Howard is a breakout talent and she endow...</td>\n",
       "      <td>1</td>\n",
       "    </tr>\n",
       "    <tr>\n",
       "      <th>4</th>\n",
       "      <td>Zora Howard gives a performance that will make...</td>\n",
       "      <td>1</td>\n",
       "    </tr>\n",
       "    <tr>\n",
       "      <th>...</th>\n",
       "      <td>...</td>\n",
       "      <td>...</td>\n",
       "    </tr>\n",
       "    <tr>\n",
       "      <th>328953</th>\n",
       "      <td>I don't just hand out zeroes becuase I'm havin...</td>\n",
       "      <td>0</td>\n",
       "    </tr>\n",
       "    <tr>\n",
       "      <th>328954</th>\n",
       "      <td>Director Shawn Levy found success with Night a...</td>\n",
       "      <td>0</td>\n",
       "    </tr>\n",
       "    <tr>\n",
       "      <th>328955</th>\n",
       "      <td>A tasteless waste of celluloid of no redeeming...</td>\n",
       "      <td>0</td>\n",
       "    </tr>\n",
       "    <tr>\n",
       "      <th>328956</th>\n",
       "      <td>A \"what happened next\" DVD extra that got stre...</td>\n",
       "      <td>0</td>\n",
       "    </tr>\n",
       "    <tr>\n",
       "      <th>328957</th>\n",
       "      <td>[VIDEO ESSAY] There is no reason to see Martin...</td>\n",
       "      <td>0</td>\n",
       "    </tr>\n",
       "  </tbody>\n",
       "</table>\n",
       "<p>328958 rows × 2 columns</p>\n",
       "</div>"
      ],
      "text/plain": [
       "                                                   review label\n",
       "0       Zwick wants to tell timeless stories on a gran...     1\n",
       "1       Zvyagintsev has always been wildly ambitious, ...     1\n",
       "2       Zorro follows the predictable paths of action ...     1\n",
       "3       Zora Howard is a breakout talent and she endow...     1\n",
       "4       Zora Howard gives a performance that will make...     1\n",
       "...                                                   ...   ...\n",
       "328953  I don't just hand out zeroes becuase I'm havin...     0\n",
       "328954  Director Shawn Levy found success with Night a...     0\n",
       "328955  A tasteless waste of celluloid of no redeeming...     0\n",
       "328956  A \"what happened next\" DVD extra that got stre...     0\n",
       "328957  [VIDEO ESSAY] There is no reason to see Martin...     0\n",
       "\n",
       "[328958 rows x 2 columns]"
      ]
     },
     "execution_count": 33,
     "metadata": {},
     "output_type": "execute_result"
    }
   ],
   "source": [
    "dataset_df = pd.DataFrame(review_data, columns = ['review', 'label'])\n",
    "dataset_df"
   ]
  },
  {
   "cell_type": "code",
   "execution_count": 34,
   "metadata": {},
   "outputs": [
    {
     "name": "stderr",
     "output_type": "stream",
     "text": [
      "100%|████████████████████████████████████████████████████████████████████████| 328958/328958 [01:44<00:00, 3159.22it/s]\n",
      "100%|█████████████████████████████████████████████████████████████████████| 328958/328958 [00:00<00:00, 1853125.10it/s]\n"
     ]
    }
   ],
   "source": [
    "#review, rating 분류\n",
    "filtered_texts = []\n",
    "filtered_labels = []\n",
    "for line in tqdm(dataset_df['review']):\n",
    "    filtered_texts.append(preprocessing(line))\n",
    "for label in tqdm(dataset_df['label']):\n",
    "    filtered_labels.append(int(label))"
   ]
  },
  {
   "cell_type": "code",
   "execution_count": 37,
   "metadata": {},
   "outputs": [],
   "source": [
    "#train, test 데이터 분리\n",
    "train_texts, test_texts, train_labels, test_labels = train_test_split(filtered_texts, filtered_labels, test_size=0.2, random_state=0)"
   ]
  },
  {
   "cell_type": "code",
   "execution_count": 41,
   "metadata": {},
   "outputs": [],
   "source": [
    "#TF-IDF 벡터화\n",
    "tf_vectorizer = CountVectorizer(min_df=1, ngram_range=(1,1)) \n",
    "tf_train_features = tf_vectorizer.fit_transform(train_texts) \n",
    "tf_test_features = tf_vectorizer.transform(test_texts)"
   ]
  },
  {
   "cell_type": "code",
   "execution_count": 42,
   "metadata": {},
   "outputs": [],
   "source": [
    "vocablist = [word for word, _ in sorted(tf_vectorizer.vocabulary_.items(), key=lambda x:x[1])]"
   ]
  },
  {
   "cell_type": "code",
   "execution_count": 185,
   "metadata": {},
   "outputs": [
    {
     "data": {
      "text/plain": [
       "['00', '000', '000bc', '000th', '007', '00s', '01', '02', '03', '04']"
      ]
     },
     "execution_count": 185,
     "metadata": {},
     "output_type": "execute_result"
    }
   ],
   "source": [
    "vocablist[:10]"
   ]
  },
  {
   "cell_type": "code",
   "execution_count": 45,
   "metadata": {},
   "outputs": [],
   "source": [
    "tfidf_vectorizer = TfidfVectorizer(min_df=1, ngram_range=(1,1)) \n",
    "tfidf_train_features = tfidf_vectorizer.fit_transform(train_texts) \n",
    "tfidf_test_features = tfidf_vectorizer.transform(test_texts)"
   ]
  },
  {
   "cell_type": "code",
   "execution_count": 223,
   "metadata": {},
   "outputs": [
    {
     "data": {
      "text/plain": [
       "GridSearchCV(cv=5, estimator=LogisticRegression(solver='saga'), n_jobs=-1,\n",
       "             param_grid={'C': [0.01, 0.05, 0.1, 0.5, 1, 2, 5, 10],\n",
       "                         'penalty': ['l1', 'l2']})"
      ]
     },
     "execution_count": 223,
     "metadata": {},
     "output_type": "execute_result"
    }
   ],
   "source": [
    "#grid search\n",
    "lg = LogisticRegression(solver = 'saga')\n",
    "param_grid = { 'penalty': ['l1', 'l2'], 'C': [0.01, 0.05, 0.1, 0.5, 1, 2, 5, 10] }\n",
    "grid_search = GridSearchCV(estimator = lg, param_grid = param_grid, cv=5, n_jobs = -1)  \n",
    "grid_search.fit(tfidf_train_features, train_labels)"
   ]
  },
  {
   "cell_type": "code",
   "execution_count": 224,
   "metadata": {},
   "outputs": [
    {
     "data": {
      "text/plain": [
       "{'C': 2, 'penalty': 'l2'}"
      ]
     },
     "execution_count": 224,
     "metadata": {},
     "output_type": "execute_result"
    }
   ],
   "source": [
    "grid_search.best_params_"
   ]
  },
  {
   "cell_type": "code",
   "execution_count": 46,
   "metadata": {},
   "outputs": [],
   "source": [
    "# tfidf matrix를 사용한 경우\n",
    "lr1_tfidf = LogisticRegression(C=2, penalty='l2', solver='saga') # Lasso regression\n",
    "lr1_tfidf.fit(tfidf_train_features, train_labels) # 학습\n",
    "pred_labels = lr1_tfidf.predict(tfidf_test_features)"
   ]
  },
  {
   "cell_type": "code",
   "execution_count": 228,
   "metadata": {},
   "outputs": [
    {
     "name": "stdout",
     "output_type": "stream",
     "text": [
      "Misclassified samples: 9727 out of 65792\n",
      "Accuracy: 0.85\n"
     ]
    }
   ],
   "source": [
    "print('Misclassified samples: {} out of {}'.format((pred_labels != test_labels).sum(),len(test_labels)))\n",
    "print('Accuracy: %.2f' % accuracy_score(test_labels, pred_labels))"
   ]
  },
  {
   "cell_type": "code",
   "execution_count": 229,
   "metadata": {},
   "outputs": [
    {
     "data": {
      "text/plain": [
       "array([[17187,  5883],\n",
       "       [ 3844, 38878]], dtype=int64)"
      ]
     },
     "execution_count": 229,
     "metadata": {},
     "output_type": "execute_result"
    }
   ],
   "source": [
    "confusion_matrix(test_labels, pred_labels)"
   ]
  },
  {
   "cell_type": "code",
   "execution_count": 230,
   "metadata": {},
   "outputs": [
    {
     "name": "stdout",
     "output_type": "stream",
     "text": [
      "              precision    recall  f1-score   support\n",
      "\n",
      "           0       0.82      0.74      0.78     23070\n",
      "           1       0.87      0.91      0.89     42722\n",
      "\n",
      "    accuracy                           0.85     65792\n",
      "   macro avg       0.84      0.83      0.83     65792\n",
      "weighted avg       0.85      0.85      0.85     65792\n",
      "\n"
     ]
    }
   ],
   "source": [
    "from sklearn.metrics import classification_report\n",
    "print(classification_report(test_labels, pred_labels))"
   ]
  },
  {
   "cell_type": "code",
   "execution_count": 231,
   "metadata": {},
   "outputs": [],
   "source": [
    "labels_prob = lr1_tfidf.predict_proba(tfidf_test_features)"
   ]
  },
  {
   "cell_type": "code",
   "execution_count": 232,
   "metadata": {},
   "outputs": [
    {
     "data": {
      "text/plain": [
       "array([0, 1, 0, ..., 1, 0, 1])"
      ]
     },
     "execution_count": 232,
     "metadata": {},
     "output_type": "execute_result"
    }
   ],
   "source": [
    "pred_labels"
   ]
  },
  {
   "cell_type": "code",
   "execution_count": 233,
   "metadata": {},
   "outputs": [
    {
     "data": {
      "text/plain": [
       "array([[0.98903389, 0.01096611],\n",
       "       [0.04801792, 0.95198208],\n",
       "       [0.98005288, 0.01994712],\n",
       "       ...,\n",
       "       [0.03652601, 0.96347399],\n",
       "       [0.91269738, 0.08730262],\n",
       "       [0.40410621, 0.59589379]])"
      ]
     },
     "execution_count": 233,
     "metadata": {},
     "output_type": "execute_result"
    }
   ],
   "source": [
    "labels_prob"
   ]
  },
  {
   "cell_type": "code",
   "execution_count": 234,
   "metadata": {},
   "outputs": [],
   "source": [
    "from sklearn.metrics import roc_curve\n",
    "\n",
    "# roc curve for models\n",
    "fpr, tpr, thresh = roc_curve(test_labels, labels_prob[:,1], pos_label=1)\n",
    "\n",
    "# roc curve for tpr2 = fpr2\n",
    "random_probs = [0 for i in range(len(test_labels))]\n",
    "p_fpr, p_tpr, _ = roc_curve(test_labels, random_probs, pos_label=1)"
   ]
  },
  {
   "cell_type": "code",
   "execution_count": 235,
   "metadata": {},
   "outputs": [
    {
     "name": "stdout",
     "output_type": "stream",
     "text": [
      "0.9217538015098957\n"
     ]
    }
   ],
   "source": [
    "from sklearn.metrics import roc_auc_score\n",
    "\n",
    "# auc scores\n",
    "auc_score = roc_auc_score(test_labels, labels_prob[:,1])\n",
    "\n",
    "print(auc_score)"
   ]
  },
  {
   "cell_type": "code",
   "execution_count": 236,
   "metadata": {},
   "outputs": [
    {
     "data": {
      "image/png": "[encoded data removed]",
      "text/plain": [
       "<Figure size 576x396 with 1 Axes>"
      ]
     },
     "metadata": {},
     "output_type": "display_data"
    }
   ],
   "source": [
    "import matplotlib.pyplot as plt\n",
    "plt.style.use('seaborn')\n",
    "\n",
    "# plot roc curves\n",
    "plt.plot(fpr, tpr, linestyle='--',color='orange', label='Logistic Regression')\n",
    "plt.plot(p_fpr, p_tpr, linestyle='--', color='blue')\n",
    "# title\n",
    "plt.title('ROC curve')\n",
    "# x label\n",
    "plt.xlabel('False Positive Rate')\n",
    "# y label\n",
    "plt.ylabel('True Positive rate')\n",
    "\n",
    "plt.legend(loc='best')\n",
    "plt.savefig('ROC',dpi=300)\n",
    "plt.show()"
   ]
  },
  {
   "cell_type": "code",
   "execution_count": 49,
   "metadata": {},
   "outputs": [
    {
     "name": "stdout",
     "output_type": "stream",
     "text": [
      "[(44789, 6.683994708023007), (7636, 6.539059282514288), (56174, 6.527186167327428), (14679, 6.454218607836324), (7635, 6.352174637600115)]\n",
      "powerful (6.684)\n",
      "brilliantly (6.539)\n",
      "superb (6.527)\n",
      "delightful (6.454)\n",
      "brilliant (6.352)\n",
      "absorb (6.241)\n",
      "mesmerize (6.160)\n",
      "beautifully (6.112)\n",
      "rivet (6.030)\n",
      "masterpiece (5.979)\n",
      "masterful (5.829)\n",
      "wonderful (5.790)\n",
      "engross (5.736)\n",
      "refresh (5.725)\n",
      "exhilarate (5.678)\n",
      "superbly (5.672)\n",
      "gem (5.668)\n",
      "delightfully (5.623)\n",
      "unforgettable (5.602)\n",
      "terrific (5.587)\n",
      "\n",
      "worst (-8.504)\n",
      "unfunny (-8.280)\n",
      "unfortunately (-8.252)\n",
      "fail (-7.868)\n",
      "tedious (-7.768)\n",
      "dull (-7.437)\n",
      "bland (-7.130)\n",
      "poorly (-7.050)\n",
      "plod (-6.984)\n",
      "lifeless (-6.722)\n",
      "inept (-6.708)\n",
      "misfire (-6.665)\n",
      "bore (-6.661)\n",
      "awful (-6.529)\n",
      "uninspired (-6.491)\n",
      "sadly (-6.415)\n",
      "waste (-6.377)\n",
      "squander (-6.131)\n",
      "lack (-6.106)\n",
      "unconvincing (-6.009)\n"
     ]
    }
   ],
   "source": [
    "# coefficients \n",
    "coefficients = lr1_tfidf.coef_.tolist()\n",
    "\n",
    "sorted_coefficients = sorted(enumerate(coefficients[0]), key=lambda x:x[1], reverse=True)\n",
    "# 학습에 사용된 각 단어마다의 coefficient (즉 weight) 값이 존재\n",
    "# coefficient값이 큰 순으로 정렬 'reverse=True'\n",
    "\n",
    "print(sorted_coefficients[:5])\n",
    "# 상위 20개 긍정 단어\n",
    "for word, coef in sorted_coefficients[:20]:\n",
    "    print('{0:} ({1:.3f})'.format(vocablist[word], coef))\n",
    "\n",
    "print()\n",
    "# 상위 20개 부정 단어\n",
    "for word, coef in reversed(sorted_coefficients[-20:]):\n",
    "    print('{0:} ({1:.3f})'.format(vocablist[word], coef))"
   ]
  },
  {
   "cell_type": "markdown",
   "metadata": {},
   "source": [
    "# 4. 연도별 영화 리뷰 긍정/부정 비율 결과"
   ]
  },
  {
   "cell_type": "markdown",
   "metadata": {},
   "source": [
    "### 4-1) 2017"
   ]
  },
  {
   "cell_type": "code",
   "execution_count": 237,
   "metadata": {},
   "outputs": [],
   "source": [
    "tfidf_test_features_17 = tfidf_vectorizer.transform(preprocessed_data_2017)\n",
    "pred_labels_17 = lr1_tfidf.predict(tfidf_test_features_17)"
   ]
  },
  {
   "cell_type": "code",
   "execution_count": 238,
   "metadata": {},
   "outputs": [
    {
     "data": {
      "text/plain": [
       "2960"
      ]
     },
     "execution_count": 238,
     "metadata": {},
     "output_type": "execute_result"
    }
   ],
   "source": [
    "len(pred_labels_17.tolist())"
   ]
  },
  {
   "cell_type": "code",
   "execution_count": 239,
   "metadata": {},
   "outputs": [],
   "source": [
    "## 긍정 비율\n",
    "pos_rate_17 = {\n",
    "    'LA LA Land 긍정 비율 ': (pred_labels_17.tolist()[:460].count(1)/len(pred_labels_17.tolist()[:460])),\n",
    "    'Hell or High Water 긍정 비율' :(pred_labels_17.tolist()[460:741].count(1)/len(pred_labels_17.tolist()[460:741])),\n",
    "    'Hacksaw Ridge 긍정 비율' :  (pred_labels_17.tolist()[741:1000].count(1)/len(pred_labels_17.tolist()[741:1000])),\n",
    "    'Arrival 긍정 비율' :  (pred_labels_17.tolist()[1000:1420].count(1)/len(pred_labels_17.tolist()[1000:1420])),\n",
    "    'Hidden Figures 긍정 비율' : (pred_labels_17.tolist()[1420:1720].count(1)/len(pred_labels_17.tolist()[1420:1720])),\n",
    "    'Manchester by the Sea 긍정 비율' : (pred_labels_17.tolist()[1720:2060].count(1)/len(pred_labels_17.tolist()[1720:2060])),\n",
    "    'Lion 긍정 비율' : (pred_labels_17.tolist()[2060:2320].count(1)/len(pred_labels_17.tolist()[2060:2320])),\n",
    "    'Moonlight 긍정 비율' : (pred_labels_17.tolist()[2320:2700].count(1)/len(pred_labels_17.tolist()[2320:2700])),\n",
    "    'Fences 긍정 비율' : (pred_labels_17.tolist()[2700:].count(1)/len(pred_labels_17.tolist()[2700:]))\n",
    "}"
   ]
  },
  {
   "cell_type": "code",
   "execution_count": 240,
   "metadata": {},
   "outputs": [
    {
     "name": "stdout",
     "output_type": "stream",
     "text": [
      "Moonlight 긍정 비율 0.9710526315789474\n",
      "Hell or High Water 긍정 비율 0.9501779359430605\n",
      "LA LA Land 긍정 비율  0.9304347826086956\n",
      "Manchester by the Sea 긍정 비율 0.9294117647058824\n",
      "Arrival 긍정 비율 0.919047619047619\n",
      "Fences 긍정 비율 0.9153846153846154\n",
      "Hidden Figures 긍정 비율 0.9066666666666666\n",
      "Hacksaw Ridge 긍정 비율 0.8764478764478765\n",
      "Lion 긍정 비율 0.8461538461538461\n"
     ]
    }
   ],
   "source": [
    "sort_pos_rate_17 = sorted(pos_rate_17.items(), key = lambda x : x[1], reverse = True)\n",
    "\n",
    "for i in sort_pos_rate_17:\n",
    "    print(i[0], i[1])"
   ]
  },
  {
   "cell_type": "markdown",
   "metadata": {},
   "source": [
    "2017년 작품상 수상작: Moonlight\\\n",
    "실제 수상작과 모델 예측 1위 일치"
   ]
  },
  {
   "cell_type": "markdown",
   "metadata": {},
   "source": [
    "### 4-2) 2018"
   ]
  },
  {
   "cell_type": "code",
   "execution_count": 241,
   "metadata": {},
   "outputs": [],
   "source": [
    "tfidf_test_features_18 = tfidf_vectorizer.transform(preprocessed_data_2018)\n",
    "pred_labels_18 = lr1_tfidf.predict(tfidf_test_features_18)"
   ]
  },
  {
   "cell_type": "code",
   "execution_count": 242,
   "metadata": {},
   "outputs": [
    {
     "data": {
      "text/plain": [
       "3440"
      ]
     },
     "execution_count": 242,
     "metadata": {},
     "output_type": "execute_result"
    }
   ],
   "source": [
    "len(pred_labels_18.tolist())"
   ]
  },
  {
   "cell_type": "code",
   "execution_count": 243,
   "metadata": {},
   "outputs": [],
   "source": [
    "## 긍정 비율\n",
    "pos_rate_18 = {\n",
    "    'The Shape Of Water 긍정' : (pred_labels_18.tolist()[:440].count(1)/len(pred_labels_18.tolist()[:440])),\n",
    "    'Phantom Thread 긍정 비율' : (pred_labels_18.tolist()[440:780].count(1)/len(pred_labels_18.tolist()[440:780])),\n",
    "    'The Post 긍정 비율' : (pred_labels_18.tolist()[780:1180].count(1)/len(pred_labels_18.tolist()[780:1180])),\n",
    "    'Darkest Hour 긍정 비율' : (pred_labels_18.tolist()[1180:1480].count(1)/len(pred_labels_18.tolist()[1180:1480])),\n",
    "    'Three Billboards Outside Ebbing, Missouri 긍정 비율' : (pred_labels_18.tolist()[1480:1880].count(1)/len(pred_labels_18.tolist()[1480:1880])),\n",
    "    'Call Me By Your Name 긍정 비율' : (pred_labels_18.tolist()[1880:2220].count(1)/len(pred_labels_18.tolist()[1880:2220])),\n",
    "    'Dunkirk 긍정 비율' : (pred_labels_18.tolist()[2220:2680].count(1)/len(pred_labels_18.tolist()[2220:2680])),\n",
    "    'Get Out 긍정 비율 긍정 비율': (pred_labels_18.tolist()[2680:3060].count(1)/len(pred_labels_18.tolist()[2680:3060])),\n",
    "    'Lady Bird 긍정 비율': (pred_labels_18.tolist()[3060:].count(1)/len(pred_labels_18.tolist()[3060:]))\n",
    "}"
   ]
  },
  {
   "cell_type": "code",
   "execution_count": 244,
   "metadata": {},
   "outputs": [
    {
     "name": "stdout",
     "output_type": "stream",
     "text": [
      "Phantom Thread 긍정 비율 0.9470588235294117\n",
      "The Post 긍정 비율 0.94\n",
      "Lady Bird 긍정 비율 0.9394736842105263\n",
      "The Shape Of Water 긍정 0.9386363636363636\n",
      "Call Me By Your Name 긍정 비율 0.9323529411764706\n",
      "Get Out 긍정 비율 긍정 비율 0.9315789473684211\n",
      "Three Billboards Outside Ebbing, Missouri 긍정 비율 0.9225\n",
      "Dunkirk 긍정 비율 0.9065217391304348\n",
      "Darkest Hour 긍정 비율 0.8866666666666667\n"
     ]
    }
   ],
   "source": [
    "sort_pos_rate_18 = sorted(pos_rate_18.items(), key = lambda x : x[1], reverse = True)\n",
    "\n",
    "for i in sort_pos_rate_18:\n",
    "    print(i[0], i[1])"
   ]
  },
  {
   "cell_type": "markdown",
   "metadata": {},
   "source": [
    "2018년 작품상 수상작: The Shape Of Water\\\n",
    "실제 수상작과 모델 예측 1위 불일치"
   ]
  },
  {
   "cell_type": "markdown",
   "metadata": {},
   "source": [
    "### 4-3) 2019"
   ]
  },
  {
   "cell_type": "code",
   "execution_count": 245,
   "metadata": {},
   "outputs": [],
   "source": [
    "tfidf_test_features_19 = tfidf_vectorizer.transform(preprocessed_data_2019)\n",
    "pred_labels_19 = lr1_tfidf.predict(tfidf_test_features_19)"
   ]
  },
  {
   "cell_type": "code",
   "execution_count": 246,
   "metadata": {},
   "outputs": [
    {
     "data": {
      "text/plain": [
       "3360"
      ]
     },
     "execution_count": 246,
     "metadata": {},
     "output_type": "execute_result"
    }
   ],
   "source": [
    "len(pred_labels_19.tolist())"
   ]
  },
  {
   "cell_type": "code",
   "execution_count": 247,
   "metadata": {},
   "outputs": [],
   "source": [
    "## 긍정 비율\n",
    "pos_rate_19 = {\n",
    "    'Bohemian Rhapsody 긍정 비율' : (pred_labels_19.tolist()[:340].count(1)/len(pred_labels_19.tolist()[:340])),\n",
    "    'BlacKkKlansman 긍정 비율' : (pred_labels_19.tolist()[340:740].count(1)/len(pred_labels_19.tolist()[340:740])),\n",
    "    'A Star is Born 긍정 비율' : (pred_labels_19.tolist()[740:1140].count(1)/len(pred_labels_19.tolist()[740:1140])),\n",
    "    'The Favourite 긍정 비율' : (pred_labels_19.tolist()[1140:1660].count(1)/len(pred_labels_19.tolist()[1140:1660])),\n",
    "    'Green Book 긍정 비율' : (pred_labels_19.tolist()[1660:2100].count(1)/len(pred_labels_19.tolist()[1660:2100])),\n",
    "    'Roma 긍정 비율' : (pred_labels_19.tolist()[2100:2460].count(1)/len(pred_labels_19.tolist()[2100:2460])),\n",
    "    'Black Panther 긍정 비율' : (pred_labels_19.tolist()[2460:2980].count(1)/len(pred_labels_19.tolist()[2460:2980])),\n",
    "    'vice 긍정 비율' : (pred_labels_19.tolist()[2980:].count(1)/len(pred_labels_19.tolist()[2980:]))\n",
    "    }"
   ]
  },
  {
   "cell_type": "code",
   "execution_count": 248,
   "metadata": {},
   "outputs": [
    {
     "name": "stdout",
     "output_type": "stream",
     "text": [
      "vice 긍정 비율 0.9631578947368421\n",
      "The Favourite 긍정 비율 0.9365384615384615\n",
      "Green Book 긍정 비율 0.9181818181818182\n",
      "A Star is Born 긍정 비율 0.91\n",
      "Black Panther 긍정 비율 0.8807692307692307\n",
      "Bohemian Rhapsody 긍정 비율 0.8176470588235294\n",
      "Roma 긍정 비율 0.7388888888888889\n",
      "BlacKkKlansman 긍정 비율 0.715\n"
     ]
    }
   ],
   "source": [
    "sort_pos_rate_19 = sorted(pos_rate_19.items(), key = lambda x : x[1], reverse = True)\n",
    "\n",
    "for i in sort_pos_rate_19:\n",
    "    print(i[0], i[1])"
   ]
  },
  {
   "cell_type": "markdown",
   "metadata": {},
   "source": [
    "2019년 작품상 수상작: Green Book\\\n",
    "실제 수상작과 모델 예측 1위 불일치"
   ]
  },
  {
   "cell_type": "markdown",
   "metadata": {},
   "source": [
    "### 4-4) 2020"
   ]
  },
  {
   "cell_type": "code",
   "execution_count": 249,
   "metadata": {},
   "outputs": [],
   "source": [
    "tfidf_test_features_20 = tfidf_vectorizer.transform(preprocessed_data_2020)\n",
    "pred_labels_20 = lr1_tfidf.predict(tfidf_test_features_20)"
   ]
  },
  {
   "cell_type": "code",
   "execution_count": 250,
   "metadata": {},
   "outputs": [
    {
     "data": {
      "text/plain": [
       "4000"
      ]
     },
     "execution_count": 250,
     "metadata": {},
     "output_type": "execute_result"
    }
   ],
   "source": [
    "len(pred_labels_20.tolist())"
   ]
  },
  {
   "cell_type": "code",
   "execution_count": 251,
   "metadata": {},
   "outputs": [],
   "source": [
    "## 긍정 비율\n",
    "pos_rate_20 = {\n",
    "    '1917 긍정 비율' : (pred_labels_20.tolist()[:440].count(1)/len(pred_labels_20.tolist()[:440])),\n",
    "    'Joker 긍정 비율' : (pred_labels_20.tolist()[440:1020].count(1)/len(pred_labels_20.tolist()[440:1020])),\n",
    "    'The Irishman 긍정 비율' : (pred_labels_20.tolist()[1020:1460].count(1)/len(pred_labels_20.tolist()[1020:1460])),\n",
    "    'Little Women 긍정 비율' : (pred_labels_20.tolist()[1460:1860].count(1)/len(pred_labels_20.tolist()[1460:1860])),\n",
    "    'Jojo rabbit 긍정 비율' : (pred_labels_20.tolist()[1860:2280].count(1)/len(pred_labels_20.tolist()[1860:2280])),\n",
    "    'Marriage Story 긍정 비율' : (pred_labels_20.tolist()[2280:2660].count(1)/len(pred_labels_20.tolist()[2280:2660])),\n",
    "    'Parasite 긍정 비율' : (pred_labels_20.tolist()[2660:3100].count(1)/len(pred_labels_20.tolist()[2660:3100])),\n",
    "    'Once Upon A Time …In Hollywood 긍정 비율' : (pred_labels_20.tolist()[3100:3660].count(1)/len(pred_labels_20.tolist()[3100:3660])),\n",
    "    'Ford v Ferrari 긍정 비율' : (pred_labels_20.tolist()[3660:].count(1)/len(pred_labels_20.tolist()[3660:]))\n",
    "    }"
   ]
  },
  {
   "cell_type": "code",
   "execution_count": 252,
   "metadata": {},
   "outputs": [
    {
     "name": "stdout",
     "output_type": "stream",
     "text": [
      "Parasite 긍정 비율 0.9613636363636363\n",
      "The Irishman 긍정 비율 0.9340909090909091\n",
      "Little Women 긍정 비율 0.93\n",
      "Marriage Story 긍정 비율 0.9289473684210526\n",
      "Ford v Ferrari 긍정 비율 0.9205882352941176\n",
      "Once Upon A Time …In Hollywood 긍정 비율 0.9\n",
      "1917 긍정 비율 0.8931818181818182\n",
      "Jojo rabbit 긍정 비율 0.8642857142857143\n",
      "Joker 긍정 비율 0.7603448275862069\n"
     ]
    }
   ],
   "source": [
    "sort_pos_rate_20 = sorted(pos_rate_20.items(), key = lambda x : x[1], reverse = True)\n",
    "\n",
    "for i in sort_pos_rate_20:\n",
    "    print(i[0], i[1])"
   ]
  },
  {
   "cell_type": "markdown",
   "metadata": {},
   "source": [
    "2020년 작품상 수상작: Parasite\\\n",
    "실제 수상작과 모델 예측 1위 일치"
   ]
  },
  {
   "cell_type": "markdown",
   "metadata": {},
   "source": [
    "### 4-5) 2021"
   ]
  },
  {
   "cell_type": "code",
   "execution_count": 253,
   "metadata": {},
   "outputs": [],
   "source": [
    "tfidf_test_features_21 = tfidf_vectorizer.transform(preprocessed_data_2021)\n",
    "pred_labels_21 = lr1_tfidf.predict(tfidf_test_features_21)"
   ]
  },
  {
   "cell_type": "code",
   "execution_count": 254,
   "metadata": {},
   "outputs": [
    {
     "data": {
      "text/plain": [
       "2500"
      ]
     },
     "execution_count": 254,
     "metadata": {},
     "output_type": "execute_result"
    }
   ],
   "source": [
    "len(pred_labels_21.tolist())"
   ]
  },
  {
   "cell_type": "code",
   "execution_count": 255,
   "metadata": {},
   "outputs": [],
   "source": [
    "## 긍정 비율\n",
    "pos_rate_21 = {\n",
    "    'Nomadland 긍정 비율' : (pred_labels_21.tolist()[:400].count(1)/len(pred_labels_21.tolist()[:400])),\n",
    "    'The Father 긍정 비율' : (pred_labels_21.tolist()[400:620].count(1)/len(pred_labels_21.tolist()[400:620])),\n",
    "    'Minari 긍정 비율' : (pred_labels_21.tolist()[620:900].count(1)/len(pred_labels_21.tolist()[620:900])),\n",
    "    'Mank 긍정 비율' : (pred_labels_21.tolist()[900:1220].count(1)/len(pred_labels_21.tolist()[900:1220])),\n",
    "    'Sound of Metal긍정 비율' : (pred_labels_21.tolist()[1220:1480].count(1)/len(pred_labels_21.tolist()[1220:1480])),\n",
    "    'Promising Young Woman긍정 비율' : (pred_labels_21.tolist()[1480:1860].count(1)/len(pred_labels_21.tolist()[1480:1860])),\n",
    "    'Judas and the Black Messiah 긍정 비율' : (pred_labels_21.tolist()[1860:2180].count(1)/len(pred_labels_21.tolist()[1860:2180])),\n",
    "    'The Trial of the Chicago 7 긍정 비율' :(pred_labels_21.tolist()[2180:].count(1)/len(pred_labels_21.tolist()[2180:])),\n",
    "    }"
   ]
  },
  {
   "cell_type": "code",
   "execution_count": 256,
   "metadata": {},
   "outputs": [
    {
     "name": "stdout",
     "output_type": "stream",
     "text": [
      "The Trial of the Chicago 7 긍정 비율 0.95\n",
      "Judas and the Black Messiah 긍정 비율 0.946875\n",
      "Minari 긍정 비율 0.9464285714285714\n",
      "Sound of Metal긍정 비율 0.9461538461538461\n",
      "The Father 긍정 비율 0.9363636363636364\n",
      "Nomadland 긍정 비율 0.9025\n",
      "Mank 긍정 비율 0.871875\n",
      "Promising Young Woman긍정 비율 0.8447368421052631\n"
     ]
    }
   ],
   "source": [
    "sort_pos_rate_21 = sorted(pos_rate_21.items(), key = lambda x : x[1], reverse = True)\n",
    "\n",
    "for i in sort_pos_rate_21:\n",
    "    print(i[0], i[1])"
   ]
  },
  {
   "cell_type": "markdown",
   "metadata": {},
   "source": [
    "2021년 작품상 수상작: Nomaland\\\n",
    "실제 수상작과 모델 예측 1위 불일치"
   ]
  }
 ],
 "metadata": {
  "kernelspec": {
   "display_name": "Python 3",
   "language": "python",
   "name": "python3"
  },
  "language_info": {
   "codemirror_mode": {
    "name": "ipython",
    "version": 3
   },
   "file_extension": ".py",
   "mimetype": "text/x-python",
   "name": "python",
   "nbconvert_exporter": "python",
   "pygments_lexer": "ipython3",
   "version": "3.8.5"
  }
 },
 "nbformat": 4,
 "nbformat_minor": 4
}
